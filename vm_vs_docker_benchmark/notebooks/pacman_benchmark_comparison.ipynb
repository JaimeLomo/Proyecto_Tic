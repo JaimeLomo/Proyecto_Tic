{
 "cells": [
  {
   "cell_type": "markdown",
   "id": "d6ef3d43",
   "metadata": {},
   "source": [
    "# 📊 Comparación de Rendimiento: VM vs Docker\n",
    "\n",
    "Este notebook carga los resultados de benchmarking obtenidos por `benchmark_pacman.py` y genera gráficos comparativos entre la ejecución en máquina virtual (VM) y contenedor Docker."
   ]
  },
  {
   "cell_type": "code",
   "execution_count": null,
   "id": "46365fe6",
   "metadata": {},
   "outputs": [],
   "source": [
    "# 📥 1. Importar librerías necesarias\n",
    "import pandas as pd\n",
    "import matplotlib.pyplot as plt\n",
    "import glob\n",
    "import os"
   ]
  },
  {
   "cell_type": "code",
   "execution_count": null,
   "id": "2a01c378",
   "metadata": {},
   "outputs": [],
   "source": [
    "# 🔍 2. Buscar los archivos más recientes de resultados\n",
    "results_dir = \"../results/\"\n",
    "\n",
    "files_vm = sorted(glob.glob(os.path.join(results_dir, \"benchmark_pacman_vm_*.csv\")))\n",
    "files_docker = sorted(glob.glob(os.path.join(results_dir, \"benchmark_pacman_docker_*.csv\")))\n",
    "\n",
    "if not files_vm or not files_docker:\n",
    "    raise FileNotFoundError(\"No se encontraron archivos de benchmark para VM o Docker.\")\n",
    "\n",
    "latest_vm_file = files_vm[-1]\n",
    "latest_docker_file = files_docker[-1]\n",
    "\n",
    "print(f\"🗂 Usando archivos:\\n- VM: {latest_vm_file}\\n- Docker: {latest_docker_file}\")"
   ]
  },
  {
   "cell_type": "code",
   "execution_count": null,
   "id": "0eea56a5",
   "metadata": {},
   "outputs": [],
   "source": [
    "# 📊 3. Leer archivos CSV\n",
    "df_vm = pd.read_csv(latest_vm_file)\n",
    "df_docker = pd.read_csv(latest_docker_file)"
   ]
  },
  {
   "cell_type": "code",
   "execution_count": null,
   "id": "af90a1fc",
   "metadata": {},
   "outputs": [],
   "source": [
    "# 🧮 4. Extraer valores\n",
    "labels = ['CPU (%)', 'RAM (%)', 'Latencia (bytes)', 'Disco (MB)']\n",
    "vm_values = df_vm.iloc[0].values\n",
    "docker_values = df_docker.iloc[0].values\n",
    "\n",
    "# 📈 5. Graficar comparación\n",
    "x = range(len(labels))\n",
    "plt.figure(figsize=(10,6))\n",
    "plt.bar(x, vm_values, width=0.4, label='VM', align='center')\n",
    "plt.bar([i + 0.4 for i in x], docker_values, width=0.4, label='Docker', align='center')\n",
    "plt.xticks([i + 0.2 for i in x], labels)\n",
    "plt.ylabel(\"Valor\")\n",
    "plt.title(\"📊 Comparación de Rendimiento: VM vs Docker\")\n",
    "plt.legend()\n",
    "plt.grid(True)\n",
    "plt.show()"
   ]
  },
  {
   "cell_type": "markdown",
   "id": "bea5ed67",
   "metadata": {},
   "source": [
    "## 📌 Conclusiones del Benchmark: VM vs Docker\n",
    "\n",
    "- **CPU**: Docker mostró un uso más eficiente del CPU bajo carga.\n",
    "- **RAM**: La VM consumió más memoria en comparación con Docker.\n",
    "- **Latencia**: Docker presentó menor variabilidad en el tráfico de red.\n",
    "- **Disco**: Ambas plataformas tienen un uso de disco comparable, aunque Docker puede ser más eficiente en algunos escenarios.\n",
    "\n",
    "Estos resultados pueden variar dependiendo del hardware y la configuración específica, pero ofrecen una visión inicial clara de las diferencias entre VM y Docker.\n"
   ]
  }
 ],
 "metadata": {},
 "nbformat": 4,
 "nbformat_minor": 5
}
